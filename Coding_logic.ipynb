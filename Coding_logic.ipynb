{
 "cells": [
  {
   "cell_type": "code",
   "execution_count": 6,
   "id": "b1c24ec1",
   "metadata": {},
   "outputs": [],
   "source": [
    "# Import required packages\n",
    "import statistics as stat \n",
    "from cmath import sqrt\n",
    "from math import gcd"
   ]
  },
  {
   "cell_type": "markdown",
   "id": "43d6f7de",
   "metadata": {},
   "source": [
    "Question 1"
   ]
  },
  {
   "cell_type": "code",
   "execution_count": 7,
   "id": "c302df16",
   "metadata": {},
   "outputs": [],
   "source": [
    "# Write a Python program/function to print the sum, largest\n",
    "# number, smallest number\n",
    "# \\n = new line character\n",
    "\n",
    "def num_func(num_list):\n",
    "    sum_dat = sum(num_list)\n",
    "    max_dat = max(num_list)\n",
    "    min_dat = min(num_list)\n",
    "    mean_dat = stat.mean(num_list)\n",
    "    print(f'The sum is {sum_dat}\\n'\n",
    "    f'The maximum is {max_dat}\\n'\n",
    "    f'The minimum is {min_dat}\\n'\n",
    "    f'The mean is {mean_dat}')"
   ]
  },
  {
   "cell_type": "code",
   "execution_count": 8,
   "id": "e27316d4",
   "metadata": {},
   "outputs": [
    {
     "name": "stdout",
     "output_type": "stream",
     "text": [
      "The sum is 21\n",
      "The maximum is 6\n",
      "The minimum is 1\n",
      "The mean is 3.5\n"
     ]
    }
   ],
   "source": [
    "test_list = [1, 2, 3, 4, 5, 6]\n",
    "\n",
    "num_func(test_list)"
   ]
  },
  {
   "cell_type": "markdown",
   "id": "9962458a",
   "metadata": {},
   "source": [
    "Question 2"
   ]
  },
  {
   "cell_type": "code",
   "execution_count": 9,
   "id": "b9194321",
   "metadata": {},
   "outputs": [],
   "source": [
    "# Write a Python function that takes two lists and returns True if\n",
    "# they have at least one common member.\n",
    "# list comprehension - condensed for loop\n",
    "\n",
    "def common_lists(list_a, list_b):\n",
    "    common_elements = [element for element in list_a if element in list_b]\n",
    "    if len(common_elements) >= 1:\n",
    "        print(\"True\")\n",
    "    else: print(\"False\")\n",
    "        "
   ]
  },
  {
   "cell_type": "code",
   "execution_count": 10,
   "id": "b4972e60",
   "metadata": {},
   "outputs": [
    {
     "name": "stdout",
     "output_type": "stream",
     "text": [
      "True\n"
     ]
    }
   ],
   "source": [
    "my_names = [\"Julie\", \"Eddie\", \"Jordan\", \"Chris\", \"Daryl\"]\n",
    "other_names = [\"Susan\", \"Lyn\", \"Jordan\", \"Tiffany\", \"Frances\"]\n",
    "\n",
    "common_lists(my_names, other_names)"
   ]
  },
  {
   "cell_type": "markdown",
   "id": "eb094c0f",
   "metadata": {},
   "source": [
    "Question 3"
   ]
  },
  {
   "cell_type": "code",
   "execution_count": 11,
   "id": "bdc83f53",
   "metadata": {},
   "outputs": [],
   "source": [
    "# Write a Python program/function to combine two dictionary\n",
    "# adding values for common keys.\n",
    "# union method to combine 2 dictionaries, adding the values for\n",
    "# common keys\n",
    "# .get() = returns the value of the item with the specified key\n",
    "# set() convert into a set\n",
    "# .union = combines iterable objects (including sets) together\n",
    "\n",
    "def dict_merge(dict_1, dict_2):\n",
    "    set_up = {i: dict_1.get(i, 0) + dict_2.get(i, 0)\n",
    "    for i in set(dict_1).union(dict_2)}\n",
    "    print(set_up)"
   ]
  },
  {
   "cell_type": "code",
   "execution_count": 12,
   "id": "201dfbf9",
   "metadata": {},
   "outputs": [
    {
     "name": "stdout",
     "output_type": "stream",
     "text": [
      "{'d': 400, 'a': 400, 'c': 300, 'b': 400}\n"
     ]
    }
   ],
   "source": [
    "d1 = {'a': 100, 'b': 200, 'c':300}\n",
    "d2 = {'a': 300, 'b': 200, 'd':400}\n",
    "\n",
    "dict_merge(d1, d2)\n"
   ]
  },
  {
   "cell_type": "markdown",
   "id": "a0597f97",
   "metadata": {},
   "source": [
    "Question 4"
   ]
  },
  {
   "cell_type": "code",
   "execution_count": 13,
   "id": "b5e4e86d",
   "metadata": {},
   "outputs": [],
   "source": [
    "# Write a Python program/function which iterates the integers\n",
    "# from 1 to 100. For multiples of three print \"Fizz\" instead of the\n",
    "# number and for the multiples of five print \"Buzz\". For numbers\n",
    "# which are multiples of both three and five print \"FizzBuzz\".\n",
    "# modulo % = gives the remainder 6/3 - remainder = 0. Means 6 is a multiple of 3\n",
    "\n",
    "def FizzBuzz_func(start_no, end_no):\n",
    "    for i in range(start_no, end_no):\n",
    "        if i % 5 == 0 & i % 3 == 0:\n",
    "            print(\"FizzBuzz\")\n",
    "        elif i % 3 == 0:\n",
    "            print(\"Fizz\")\n",
    "        elif i % 5 == 0:\n",
    "            print(\"Buzz\")\n",
    "        else: print(i)"
   ]
  },
  {
   "cell_type": "code",
   "execution_count": 14,
   "id": "6623e230",
   "metadata": {},
   "outputs": [
    {
     "name": "stdout",
     "output_type": "stream",
     "text": [
      "1\n",
      "2\n",
      "Fizz\n",
      "4\n",
      "FizzBuzz\n",
      "Fizz\n",
      "7\n",
      "8\n",
      "Fizz\n",
      "FizzBuzz\n",
      "11\n",
      "Fizz\n",
      "13\n",
      "14\n",
      "FizzBuzz\n",
      "16\n",
      "17\n",
      "Fizz\n",
      "19\n",
      "FizzBuzz\n",
      "Fizz\n",
      "22\n",
      "23\n",
      "Fizz\n",
      "FizzBuzz\n",
      "26\n",
      "Fizz\n",
      "28\n",
      "29\n",
      "FizzBuzz\n",
      "31\n",
      "32\n",
      "Fizz\n",
      "34\n",
      "FizzBuzz\n",
      "Fizz\n",
      "37\n",
      "38\n",
      "Fizz\n",
      "FizzBuzz\n",
      "41\n",
      "Fizz\n",
      "43\n",
      "44\n",
      "FizzBuzz\n",
      "46\n",
      "47\n",
      "Fizz\n",
      "49\n",
      "FizzBuzz\n",
      "Fizz\n",
      "52\n",
      "53\n",
      "Fizz\n",
      "FizzBuzz\n",
      "56\n",
      "Fizz\n",
      "58\n",
      "59\n",
      "FizzBuzz\n",
      "61\n",
      "62\n",
      "Fizz\n",
      "64\n",
      "FizzBuzz\n",
      "Fizz\n",
      "67\n",
      "68\n",
      "Fizz\n",
      "FizzBuzz\n",
      "71\n",
      "Fizz\n",
      "73\n",
      "74\n",
      "FizzBuzz\n",
      "76\n",
      "77\n",
      "Fizz\n",
      "79\n",
      "FizzBuzz\n",
      "Fizz\n",
      "82\n",
      "83\n",
      "Fizz\n",
      "FizzBuzz\n",
      "86\n",
      "Fizz\n",
      "88\n",
      "89\n",
      "FizzBuzz\n",
      "91\n",
      "92\n",
      "Fizz\n",
      "94\n",
      "FizzBuzz\n",
      "Fizz\n",
      "97\n",
      "98\n",
      "Fizz\n"
     ]
    }
   ],
   "source": [
    "FizzBuzz_func(1, 100)"
   ]
  },
  {
   "cell_type": "markdown",
   "id": "4661baf0",
   "metadata": {},
   "source": [
    "Question 5"
   ]
  },
  {
   "cell_type": "code",
   "execution_count": 15,
   "id": "20a84a1e",
   "metadata": {},
   "outputs": [],
   "source": [
    "# Write a Python program/function to check the validity of\n",
    "# password input by users.\n",
    "# any() = checks for any occurance\n",
    "# isdigit() =  checks for numbers\n",
    "\n",
    "def password_func(psswrd):\n",
    "    a, b, c, d, e = 0, 0, 0, 0, 0\n",
    "\n",
    "    if '$' in psswrd or '#' in psswrd or'@' in psswrd:\n",
    "        a+=1\n",
    "    else: print(\"ERROR: Password must contain at least one of the following characters, $, #, @\")\n",
    "\n",
    "    if len(psswrd) >= 6 &  len(psswrd) <= 16:\n",
    "        b+=1\n",
    "    else: print(\"ERROR: Password must be between 6 and 16 characters\")\n",
    "\n",
    "    if any(numb.isdigit() for numb in psswrd) == True:\n",
    "        c+=1\n",
    "    else: print(\"ERROR: Password must contain at least 1 number\")\n",
    "\n",
    "    if any(lettr.islower() for lettr in psswrd) == True:\n",
    "        d+=1\n",
    "    else: print(\"ERROR: Password must contain at least 1 lowercase letter [a-z]\")\n",
    "\n",
    "    if any(up_lettr.isupper() for up_lettr in psswrd) == True:\n",
    "        e+=1\n",
    "    else: print(\"ERROR: Password must contain at least 1 capital letter [A-Z]\")\n",
    "\n",
    "    if a == 1 and b==1 and c == 1 and d == 1 and e == 1:\n",
    "        print(\"Valid password\")"
   ]
  },
  {
   "cell_type": "code",
   "execution_count": 16,
   "id": "c2003c79",
   "metadata": {},
   "outputs": [
    {
     "name": "stdout",
     "output_type": "stream",
     "text": [
      "Valid password\n"
     ]
    }
   ],
   "source": [
    "psswrd_test = \"Big#code3\"\n",
    "\n",
    "password_func(psswrd_test)"
   ]
  },
  {
   "cell_type": "markdown",
   "id": "63415e49",
   "metadata": {},
   "source": [
    "Question 6"
   ]
  },
  {
   "cell_type": "code",
   "execution_count": 17,
   "id": "83b6d613",
   "metadata": {},
   "outputs": [],
   "source": [
    "# Write a Python function that takes a list and returns a new list\n",
    "# with unique elements of the rst list. - sets show only unqiue elements\n",
    "\n",
    "def unique_elements(input_list):\n",
    "    rslt = set(input_list)\n",
    "    return rslt"
   ]
  },
  {
   "cell_type": "code",
   "execution_count": 18,
   "id": "e1373e6b",
   "metadata": {},
   "outputs": [
    {
     "data": {
      "text/plain": [
       "{1, 2, 3, 4, 5, 6, 7}"
      ]
     },
     "execution_count": 18,
     "metadata": {},
     "output_type": "execute_result"
    }
   ],
   "source": [
    "list_in = [1,2,3,4,4,4,5,6,6,7]\n",
    "\n",
    "unique_elements(list_in)\n"
   ]
  },
  {
   "cell_type": "markdown",
   "id": "9c9c80ee",
   "metadata": {},
   "source": [
    "Question 7"
   ]
  },
  {
   "cell_type": "code",
   "execution_count": 19,
   "id": "fd7399e2",
   "metadata": {},
   "outputs": [],
   "source": [
    "# Write a function which calculates the length of a hypotenuse\n",
    "# of a right angle triangle given height and base.\n",
    "\n",
    "def hypotenuse_func(height, base):\n",
    "    hyp = sqrt(height**2 + base**2)\n",
    "    return hyp"
   ]
  },
  {
   "cell_type": "code",
   "execution_count": 20,
   "id": "396c0733",
   "metadata": {},
   "outputs": [
    {
     "data": {
      "text/plain": [
       "(230.70543990118657+0j)"
      ]
     },
     "execution_count": 20,
     "metadata": {},
     "output_type": "execute_result"
    }
   ],
   "source": [
    "hypotenuse_func(200, 115)"
   ]
  },
  {
   "cell_type": "markdown",
   "id": "7f0d5199",
   "metadata": {},
   "source": [
    "Question 8"
   ]
  },
  {
   "cell_type": "code",
   "execution_count": 21,
   "id": "1c9f4fd6",
   "metadata": {},
   "outputs": [],
   "source": [
    "# Given a word, compute the Scrabble score for that word\n",
    "def scrabble_func(my_word):\n",
    "\n",
    "    letters = [\"A\", \"B\", \"C\", \"D\", \"E\", \"F\", \"G\", \"H\", \"I\", \"J\", \"K\", \"L\", \"M\", \"N\", \"O\", \"P\", \"Q\", \"R\", \"S\", \"T\", \"U\", \"V\", \"W\", \"X\", \"Y\", \"Z\"]\n",
    "    points = [1, 3, 3, 2, 1, 4, 2, 4, 1, 8, 5, 1, 3, 4, 1, 3, 10, 1, 1, 1, 1, 4, 4, 8, 4, 10]\n",
    "\n",
    "    letter_points_dict = dict(zip(letters, points))\n",
    "\n",
    "    all_points = []\n",
    "    for count, letter in enumerate(my_word):\n",
    "        letter = my_word.upper()[count]\n",
    "        all_points.append(letter_points_dict[letter])\n",
    "    return f'The scrabble word score is {sum(all_points)}'\n",
    "    \n"
   ]
  },
  {
   "cell_type": "code",
   "execution_count": 22,
   "id": "810658aa",
   "metadata": {},
   "outputs": [
    {
     "data": {
      "text/plain": [
       "'The scrabble word score is 21'"
      ]
     },
     "execution_count": 22,
     "metadata": {},
     "output_type": "execute_result"
    }
   ],
   "source": [
    "scrabble_func(\"excellent\")"
   ]
  },
  {
   "cell_type": "markdown",
   "id": "5ed60278",
   "metadata": {},
   "source": [
    "Question 9"
   ]
  },
  {
   "cell_type": "code",
   "execution_count": 23,
   "id": "65f2bcf7",
   "metadata": {},
   "outputs": [],
   "source": [
    "# Write a Python program to find the greatest common\n",
    "# divisor (gcd) of two integers. (Recursive function.)\n",
    "\n",
    "def greatest_common_divisor(a, b):\n",
    "    div = gcd(a, b)\n",
    "    return div"
   ]
  },
  {
   "cell_type": "code",
   "execution_count": 24,
   "id": "a2e2dc46",
   "metadata": {},
   "outputs": [
    {
     "data": {
      "text/plain": [
       "50"
      ]
     },
     "execution_count": 24,
     "metadata": {},
     "output_type": "execute_result"
    }
   ],
   "source": [
    "greatest_common_divisor(500,950)"
   ]
  }
 ],
 "metadata": {
  "kernelspec": {
   "display_name": "Python 3",
   "language": "python",
   "name": "python3"
  },
  "language_info": {
   "codemirror_mode": {
    "name": "ipython",
    "version": 3
   },
   "file_extension": ".py",
   "mimetype": "text/x-python",
   "name": "python",
   "nbconvert_exporter": "python",
   "pygments_lexer": "ipython3",
   "version": "3.10.4 (main, Apr  2 2022, 09:04:19) [GCC 11.2.0]"
  },
  "vscode": {
   "interpreter": {
    "hash": "6cc7069460860001c0c3ad9d4046cf79d326a3836fcbfd2d495ac8ca5b3b20a3"
   }
  }
 },
 "nbformat": 4,
 "nbformat_minor": 5
}
