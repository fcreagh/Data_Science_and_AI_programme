{
 "cells": [
  {
   "cell_type": "code",
   "execution_count": 1,
   "metadata": {
    "id": "O1xoAb-G7DiM"
   },
   "outputs": [],
   "source": [
    "# and, not, or operators"
   ]
  },
  {
   "cell_type": "markdown",
   "metadata": {
    "id": "HZ_JC2K58kco"
   },
   "source": [
    "This is an example cell for text"
   ]
  },
  {
   "cell_type": "markdown",
   "metadata": {
    "id": "7KeNKtNL2Ix-"
   },
   "source": [
    "<div>\n",
    "<img src=https://www.institutedata.com/wp-content/uploads/2019/10/iod_h_tp_primary_c.svg width=\"300\">\n",
    "</div>\n",
    "\n",
    "# Python - Lab 1 \n",
    "\n",
    "## Learning objectives\n",
    "\n",
    "This lab demonstrates examples of: \n",
    "\n",
    "1. Creating and manipulating lists\n",
    "2. For loops\n",
    "3. Importing modules and functions\n",
    "4. Creating dictonaries\n",
    "\n",
    "## Instructions:\n",
    "\n",
    "1. Replace ??? with the appropriate code\n",
    "2. Press Shift + Enter to execute cell\n",
    "\n"
   ]
  },
  {
   "cell_type": "code",
   "execution_count": 2,
   "metadata": {
    "colab": {
     "base_uri": "https://localhost:8080/"
    },
    "executionInfo": {
     "elapsed": 317,
     "status": "ok",
     "timestamp": 1666851508456,
     "user": {
      "displayName": "Frances C",
      "userId": "14852923076221038332"
     },
     "user_tz": -780
    },
    "id": "G34nwJwe8iW3",
    "outputId": "c9e7605b-d76a-431c-d237-210088149bee"
   },
   "outputs": [
    {
     "name": "stdout",
     "output_type": "stream",
     "text": [
      "this statement is true\n"
     ]
    }
   ],
   "source": [
    "if 2<5:\n",
    "  print(\"this statement is true\")"
   ]
  },
  {
   "cell_type": "code",
   "execution_count": 3,
   "metadata": {
    "colab": {
     "base_uri": "https://localhost:8080/"
    },
    "executionInfo": {
     "elapsed": 315,
     "status": "ok",
     "timestamp": 1666851978702,
     "user": {
      "displayName": "Frances C",
      "userId": "14852923076221038332"
     },
     "user_tz": -780
    },
    "id": "5qKAlikpF_BA",
    "outputId": "a00bf941-11b9-4777-dbc7-c0b2def565ad"
   },
   "outputs": [
    {
     "name": "stdout",
     "output_type": "stream",
     "text": [
      "number is greater than 200\n"
     ]
    }
   ],
   "source": [
    "x = 250\n",
    "if x < 100:\n",
    "  print(\"number is less than 100\")\n",
    "elif x > 100 and x < 150:\n",
    "  print(\"number is between 100 and 150\")\n",
    "elif x > 150 and x < 200:\n",
    "  print(\"number is between 150 and 200\")\n",
    "elif x == 100:\n",
    "  print(\"number is 100\")\n",
    "else:\n",
    "  print(\"number is greater than 200\")"
   ]
  },
  {
   "cell_type": "code",
   "execution_count": null,
   "metadata": {
    "id": "4QWWgzBLHvGG"
   },
   "outputs": [],
   "source": [
    "# lists are the simplest data structure\n",
    "my_no_list = [1, 2, 3, 4, 5]\n",
    "\n",
    "my_string_list = [\"olivia\", \"cindy\", \"tom\", \"john\", \"frances\"]\n",
    "\n",
    "mixed_list = [2, 3, \"charles\", \"lily\", 4.5, 100.234]"
   ]
  },
  {
   "cell_type": "code",
   "execution_count": null,
   "metadata": {
    "colab": {
     "base_uri": "https://localhost:8080/"
    },
    "executionInfo": {
     "elapsed": 3,
     "status": "ok",
     "timestamp": 1666852154773,
     "user": {
      "displayName": "Frances C",
      "userId": "14852923076221038332"
     },
     "user_tz": -780
    },
    "id": "THqAFSI2IQ0f",
    "outputId": "f87a9ece-9f27-4e03-81a6-ed859a8267ae"
   },
   "outputs": [
    {
     "name": "stdout",
     "output_type": "stream",
     "text": [
      "[1, 2, 3, 4, 5]\n"
     ]
    }
   ],
   "source": [
    "print(my_no_list)"
   ]
  },
  {
   "cell_type": "code",
   "execution_count": null,
   "metadata": {
    "colab": {
     "base_uri": "https://localhost:8080/"
    },
    "executionInfo": {
     "elapsed": 366,
     "status": "ok",
     "timestamp": 1666852178287,
     "user": {
      "displayName": "Frances C",
      "userId": "14852923076221038332"
     },
     "user_tz": -780
    },
    "id": "lVnfPDTqIXsy",
    "outputId": "9c007df0-59ae-414d-ebc5-a57c54667b51"
   },
   "outputs": [
    {
     "data": {
      "text/plain": [
       "5"
      ]
     },
     "execution_count": 16,
     "metadata": {},
     "output_type": "execute_result"
    }
   ],
   "source": [
    "len(my_no_list) # length of the list"
   ]
  },
  {
   "cell_type": "code",
   "execution_count": null,
   "metadata": {
    "colab": {
     "base_uri": "https://localhost:8080/"
    },
    "executionInfo": {
     "elapsed": 342,
     "status": "ok",
     "timestamp": 1666852481285,
     "user": {
      "displayName": "Frances C",
      "userId": "14852923076221038332"
     },
     "user_tz": -780
    },
    "id": "Jx85BL7fIgLN",
    "outputId": "f0410388-27f8-41a0-bb2d-f01bf1dab00b"
   },
   "outputs": [
    {
     "name": "stdout",
     "output_type": "stream",
     "text": [
      "[2, 4, 6, 8, 10]\n"
     ]
    }
   ],
   "source": [
    "# for loops\n",
    "\n",
    "number_multiple_list = []\n",
    "for i in my_no_list:\n",
    "  #print(i * 2)\n",
    "  number_multiple_list.append(i * 2)\n",
    "\n",
    "print(number_multiple_list)"
   ]
  },
  {
   "cell_type": "code",
   "execution_count": null,
   "metadata": {
    "colab": {
     "base_uri": "https://localhost:8080/"
    },
    "executionInfo": {
     "elapsed": 462,
     "status": "ok",
     "timestamp": 1666852579802,
     "user": {
      "displayName": "Frances C",
      "userId": "14852923076221038332"
     },
     "user_tz": -780
    },
    "id": "qUA3weI3J4GE",
    "outputId": "56fb5288-6a5e-4094-e138-46ede649e306"
   },
   "outputs": [
    {
     "data": {
      "text/plain": [
       "2"
      ]
     },
     "execution_count": 21,
     "metadata": {},
     "output_type": "execute_result"
    }
   ],
   "source": [
    "mixed_list[0]"
   ]
  },
  {
   "cell_type": "code",
   "execution_count": null,
   "metadata": {
    "id": "NaRcNY1l2LbD"
   },
   "outputs": [],
   "source": []
  },
  {
   "cell_type": "code",
   "execution_count": null,
   "metadata": {
    "colab": {
     "base_uri": "https://localhost:8080/"
    },
    "executionInfo": {
     "elapsed": 322,
     "status": "ok",
     "timestamp": 1666850837097,
     "user": {
      "displayName": "Frances C",
      "userId": "14852923076221038332"
     },
     "user_tz": -780
    },
    "id": "lyMlOgoUZ2R4",
    "outputId": "ff0aa9d7-d819-4a77-a66c-477827d6f2b2"
   },
   "outputs": [
    {
     "name": "stdout",
     "output_type": "stream",
     "text": [
      "['alice', 'ben', 'cathy', 'dawn', 'emily', 'fern', 'emma', 'sean', 'felix', 'hugh']\n"
     ]
    }
   ],
   "source": []
  },
  {
   "cell_type": "code",
   "execution_count": null,
   "metadata": {
    "colab": {
     "base_uri": "https://localhost:8080/"
    },
    "executionInfo": {
     "elapsed": 429,
     "status": "ok",
     "timestamp": 1666852752714,
     "user": {
      "displayName": "Frances C",
      "userId": "14852923076221038332"
     },
     "user_tz": -780
    },
    "id": "BY0GVVPvKenM",
    "outputId": "1c77e6fe-7e97-4476-ab6f-a871445e5d47"
   },
   "outputs": [
    {
     "name": "stdout",
     "output_type": "stream",
     "text": [
      "2\n",
      "3\n",
      "charles\n",
      "lily\n",
      "4.5\n",
      "100.234\n"
     ]
    }
   ],
   "source": [
    "for i in range(len(mixed_list)):\n",
    "  print(mixed_list[i])"
   ]
  },
  {
   "cell_type": "code",
   "execution_count": null,
   "metadata": {
    "id": "8CxFfY1dLfZQ"
   },
   "outputs": [],
   "source": [
    "# tuple ()\n",
    "# like a list but can't change elements once they are defined\n",
    "numbered_tuple = (2, 1, 3, 4)"
   ]
  },
  {
   "cell_type": "code",
   "execution_count": null,
   "metadata": {
    "colab": {
     "base_uri": "https://localhost:8080/"
    },
    "executionInfo": {
     "elapsed": 317,
     "status": "ok",
     "timestamp": 1666853107341,
     "user": {
      "displayName": "Frances C",
      "userId": "14852923076221038332"
     },
     "user_tz": -780
    },
    "id": "v7vi-0J1LgM8",
    "outputId": "ef7b7ce1-eddb-49f2-9d22-bfbf2e5e5fa0"
   },
   "outputs": [
    {
     "name": "stdout",
     "output_type": "stream",
     "text": [
      "{1, 2, 3, 4, 5, 6}\n"
     ]
    },
    {
     "data": {
      "text/plain": [
       "6"
      ]
     },
     "execution_count": 28,
     "metadata": {},
     "output_type": "execute_result"
    }
   ],
   "source": [
    "# sets = unique elements only\n",
    "# handy tool if have list with multiples of same element and want to find number of unqiue elements\n",
    "number_set = {1, 2, 3, 4, 5, 5, 6, 6}\n",
    "print(number_set)\n",
    "\n",
    "len(number_set ) # number of unique elements"
   ]
  },
  {
   "cell_type": "code",
   "execution_count": null,
   "metadata": {
    "colab": {
     "base_uri": "https://localhost:8080/"
    },
    "executionInfo": {
     "elapsed": 10,
     "status": "ok",
     "timestamp": 1666852701196,
     "user": {
      "displayName": "Frances C",
      "userId": "14852923076221038332"
     },
     "user_tz": -780
    },
    "id": "LtbLA_T811kr",
    "outputId": "4d431689-ebe9-478a-80c2-eb79aa9adb14"
   },
   "outputs": [
    {
     "name": "stdout",
     "output_type": "stream",
     "text": [
      "Index 1 alice\n",
      "Index 2 ben\n",
      "Index 3 cathy\n",
      "Index 4 dawn\n",
      "Index 5 emily\n",
      "Index 6 fern\n",
      "Index 7 emma\n",
      "Index 8 sean\n",
      "Index 9 felix\n",
      "Index 10 hugh\n"
     ]
    }
   ],
   "source": []
  },
  {
   "cell_type": "code",
   "execution_count": null,
   "metadata": {
    "id": "txUqnVrPLDuL"
   },
   "outputs": [],
   "source": [
    "# dictionaries - key:value pairs - use the key to access the values\n",
    "# dictionaries are unordered\n",
    "pop_nz_cities = {}\n",
    "pop_nz_cities['Auckland'] = 1500000\n",
    "pop_nz_cities['Christchurch'] = 400000\n",
    "pop_nz_cities['Wellington'] = 410000"
   ]
  },
  {
   "cell_type": "code",
   "execution_count": null,
   "metadata": {
    "colab": {
     "base_uri": "https://localhost:8080/"
    },
    "executionInfo": {
     "elapsed": 338,
     "status": "ok",
     "timestamp": 1666853497008,
     "user": {
      "displayName": "Frances C",
      "userId": "14852923076221038332"
     },
     "user_tz": -780
    },
    "id": "NsLfdEqMNZSV",
    "outputId": "9400e056-21dd-4a09-9a41-469518e320a4"
   },
   "outputs": [
    {
     "data": {
      "text/plain": [
       "1500000"
      ]
     },
     "execution_count": 30,
     "metadata": {},
     "output_type": "execute_result"
    }
   ],
   "source": [
    "# access the dictionary\n",
    "pop_nz_cities['Auckland']"
   ]
  },
  {
   "cell_type": "code",
   "execution_count": null,
   "metadata": {
    "colab": {
     "base_uri": "https://localhost:8080/"
    },
    "executionInfo": {
     "elapsed": 7,
     "status": "ok",
     "timestamp": 1666853858915,
     "user": {
      "displayName": "Frances C",
      "userId": "14852923076221038332"
     },
     "user_tz": -780
    },
    "id": "NEtzJOHaN22G",
    "outputId": "2ec866b7-cd1a-4788-f498-7ba58da8828f"
   },
   "outputs": [
    {
     "name": "stdout",
     "output_type": "stream",
     "text": [
      "0\n",
      "1\n",
      "2\n",
      "3\n",
      "4\n",
      "5\n",
      "6\n",
      "7\n",
      "8\n",
      "9\n",
      "10\n",
      "11\n",
      "12\n",
      "13\n",
      "14\n",
      "15\n",
      "16\n",
      "17\n",
      "18\n",
      "19\n",
      "0\n",
      "1\n",
      "2\n",
      "3\n",
      "4\n",
      "5\n",
      "6\n",
      "7\n",
      "8\n",
      "9\n"
     ]
    }
   ],
   "source": [
    "# while loop - 2 different ways to break out of it and avoid infinite loops\n",
    "\n",
    "x = 0\n",
    "while x < 20:\n",
    "  print(x)\n",
    "  x = x + 1 # x += 1\n",
    "\n",
    "x = 0\n",
    "while x < 20:\n",
    "  print(x)\n",
    "  x += 1\n",
    "  if x == 10:\n",
    "       break"
   ]
  },
  {
   "cell_type": "code",
   "execution_count": 39,
   "metadata": {
    "executionInfo": {
     "elapsed": 922,
     "status": "ok",
     "timestamp": 1666854881429,
     "user": {
      "displayName": "Frances C",
      "userId": "14852923076221038332"
     },
     "user_tz": -780
    },
    "id": "u-4jazvNLdDQ"
   },
   "outputs": [],
   "source": [
    "# functions\n",
    "\n",
    "def squared_sum(a, b):\n",
    "  val = a*a  + b*b\n",
    "  return val"
   ]
  },
  {
   "cell_type": "code",
   "execution_count": 40,
   "metadata": {
    "colab": {
     "base_uri": "https://localhost:8080/"
    },
    "executionInfo": {
     "elapsed": 324,
     "status": "ok",
     "timestamp": 1666854932007,
     "user": {
      "displayName": "Frances C",
      "userId": "14852923076221038332"
     },
     "user_tz": -780
    },
    "id": "zJJ_3EXKS5zE",
    "outputId": "d2982f12-bd42-4a93-dc7a-a419a141857a"
   },
   "outputs": [
    {
     "data": {
      "text/plain": [
       "13"
      ]
     },
     "execution_count": 40,
     "metadata": {},
     "output_type": "execute_result"
    }
   ],
   "source": [
    "squared_sum(2,3)"
   ]
  },
  {
   "cell_type": "code",
   "execution_count": 44,
   "metadata": {
    "executionInfo": {
     "elapsed": 1020,
     "status": "ok",
     "timestamp": 1666855264343,
     "user": {
      "displayName": "Frances C",
      "userId": "14852923076221038332"
     },
     "user_tz": -780
    },
    "id": "QyprCKlqTZkt"
   },
   "outputs": [],
   "source": [
    "def squared_sum_list(my_no_list):\n",
    "  total_sum = 0\n",
    "  for elt in my_no_list:\n",
    "    total_sum += elt * elt\n",
    "\n",
    "  return total_sum"
   ]
  },
  {
   "cell_type": "code",
   "execution_count": 46,
   "metadata": {
    "colab": {
     "base_uri": "https://localhost:8080/"
    },
    "executionInfo": {
     "elapsed": 343,
     "status": "ok",
     "timestamp": 1666855302300,
     "user": {
      "displayName": "Frances C",
      "userId": "14852923076221038332"
     },
     "user_tz": -780
    },
    "id": "8v26Ac4eUOT5",
    "outputId": "3a72ad62-2492-4db2-cd2a-677c215d2f2e"
   },
   "outputs": [
    {
     "data": {
      "text/plain": [
       "134"
      ]
     },
     "execution_count": 46,
     "metadata": {},
     "output_type": "execute_result"
    }
   ],
   "source": [
    "squared_sum_list([2,5,6,8,1,0,2])"
   ]
  },
  {
   "cell_type": "code",
   "execution_count": 1,
   "metadata": {
    "executionInfo": {
     "elapsed": 339,
     "status": "ok",
     "timestamp": 1666854516925,
     "user": {
      "displayName": "Frances C",
      "userId": "14852923076221038332"
     },
     "user_tz": -780
    },
    "id": "dlgG4dcbRJgz"
   },
   "outputs": [],
   "source": [
    "# create a list of 10 students (use just first name)\n",
    "students = ['alice','ben','cathy','dawn','emily','fern','emma','sean','felix','hugh']"
   ]
  },
  {
   "cell_type": "code",
   "execution_count": 4,
   "metadata": {
    "colab": {
     "base_uri": "https://localhost:8080/"
    },
    "executionInfo": {
     "elapsed": 7,
     "status": "ok",
     "timestamp": 1666854519256,
     "user": {
      "displayName": "Frances C",
      "userId": "14852923076221038332"
     },
     "user_tz": -780
    },
    "id": "ae3Sw9YLRROA",
    "outputId": "cbb9f1a5-b3a5-4875-83f3-9f749359401d"
   },
   "outputs": [
    {
     "name": "stdout",
     "output_type": "stream",
     "text": [
      "['alice', 'ben', 'cathy', 'dawn', 'emily', 'fern', 'emma', 'sean', 'felix', 'hugh']\n"
     ]
    }
   ],
   "source": [
    "# Print the list\n",
    "# lists are very flexible and can be changed\n",
    "# can contain multiple types (but not a great thing to do)\n",
    "print(students)"
   ]
  },
  {
   "cell_type": "code",
   "execution_count": 10,
   "metadata": {
    "colab": {
     "base_uri": "https://localhost:8080/"
    },
    "executionInfo": {
     "elapsed": 328,
     "status": "ok",
     "timestamp": 1666856362345,
     "user": {
      "displayName": "Frances C",
      "userId": "14852923076221038332"
     },
     "user_tz": -780
    },
    "id": "9GZ8IyXsRE3j",
    "outputId": "836a1039-9379-46d6-915c-74bb51d1961a"
   },
   "outputs": [
    {
     "name": "stdout",
     "output_type": "stream",
     "text": [
      "Index 01 Hugh\n",
      "Index 02 Felix\n",
      "Index 03 Sean\n",
      "Index 04 Emma\n",
      "Index 05 Fern\n",
      "Index 06 Emily\n",
      "Index 07 Dawn\n",
      "Index 08 Cathy\n",
      "Index 09 Ben\n",
      "Index 10 Alice\n"
     ]
    }
   ],
   "source": [
    "# print the list of students\n",
    "# in the following format\n",
    "# Index 01 \t Alice\n",
    "# Index 02 \t Bob\n",
    "# Index 03 \t Pradeep\n",
    "\n",
    "\n",
    "for count, student in enumerate(students):\n",
    "    students_caps = student.capitalize()\n",
    "    print(f'Index {count+1:02d} {students_caps}')"
   ]
  },
  {
   "cell_type": "code",
   "execution_count": 59,
   "metadata": {
    "executionInfo": {
     "elapsed": 338,
     "status": "ok",
     "timestamp": 1666856541421,
     "user": {
      "displayName": "Frances C",
      "userId": "14852923076221038332"
     },
     "user_tz": -780
    },
    "id": "boMjv5QUUjxk"
   },
   "outputs": [],
   "source": []
  },
  {
   "cell_type": "code",
   "execution_count": 11,
   "metadata": {
    "colab": {
     "base_uri": "https://localhost:8080/"
    },
    "executionInfo": {
     "elapsed": 379,
     "status": "ok",
     "timestamp": 1666856632722,
     "user": {
      "displayName": "Frances C",
      "userId": "14852923076221038332"
     },
     "user_tz": -780
    },
    "id": "OF5sj3CX1lHl",
    "outputId": "fe786781-d38c-4cbb-b03b-cee1d6fb6c79"
   },
   "outputs": [
    {
     "name": "stdout",
     "output_type": "stream",
     "text": [
      "Index 01 Alice\n",
      "Index 02 Ben\n",
      "Index 03 Cathy\n",
      "Index 04 Dawn\n",
      "Index 05 Emily\n",
      "Index 06 Fern\n",
      "Index 07 Emma\n",
      "Index 08 Sean\n",
      "Index 09 Felix\n",
      "Index 10 Hugh\n"
     ]
    }
   ],
   "source": [
    "# print the list of students in reverse order one student in a line with its index\n",
    "# google search how to print list in reverse order\n",
    "student_reverse = students\n",
    "\n",
    "student_reverse.reverse()\n",
    "\n",
    "# make your strings into caps - to fix capitalisation \n",
    "\n",
    "for count, student in enumerate(student_reverse):\n",
    "    students_caps = student.capitalize()\n",
    "    print(f'Index {count+1:02d} {students_caps}')"
   ]
  },
  {
   "cell_type": "code",
   "execution_count": 12,
   "metadata": {
    "colab": {
     "base_uri": "https://localhost:8080/"
    },
    "executionInfo": {
     "elapsed": 1000,
     "status": "ok",
     "timestamp": 1666856957784,
     "user": {
      "displayName": "Frances C",
      "userId": "14852923076221038332"
     },
     "user_tz": -780
    },
    "id": "eAdtim4G1pyV",
    "outputId": "5ac00114-f997-4547-f6cc-1d7fd5fa5d19"
   },
   "outputs": [
    {
     "name": "stdout",
     "output_type": "stream",
     "text": [
      "['fern', 'hugh', 'felix', 'alice', 'emily', 'ben', 'cathy', 'sean', 'emma', 'dawn']\n",
      "Index 01 Fern\n",
      "Index 02 Hugh\n",
      "Index 03 Felix\n",
      "Index 04 Alice\n",
      "Index 05 Emily\n",
      "Index 06 Ben\n",
      "Index 07 Cathy\n",
      "Index 08 Sean\n",
      "Index 09 Emma\n",
      "Index 10 Dawn\n"
     ]
    }
   ],
   "source": [
    "# print the student list in random order\n",
    "# hint look up the function random.sample\n",
    "import random\n",
    "random_sample = random.sample(students, 10)\n",
    "print(random_sample)\n",
    "\n",
    "for count, student in enumerate(random_sample):\n",
    "    students_caps = student.capitalize()\n",
    "    print(f'Index {count+1:02d} {students_caps}')"
   ]
  },
  {
   "cell_type": "code",
   "execution_count": 18,
   "metadata": {
    "colab": {
     "base_uri": "https://localhost:8080/"
    },
    "executionInfo": {
     "elapsed": 381,
     "status": "ok",
     "timestamp": 1666857015370,
     "user": {
      "displayName": "Frances C",
      "userId": "14852923076221038332"
     },
     "user_tz": -780
    },
    "id": "sfKkL5dt1tqG",
    "outputId": "bb8e643c-fdd0-4464-cc69-3afdd551ba9d"
   },
   "outputs": [
    {
     "name": "stdout",
     "output_type": "stream",
     "text": [
      "Students and their marks: \n",
      " {'alice': 87, 'ben': 45, 'cathy': 76, 'dawn': 64, 'emily': 66, 'fern': 90, 'emma': 55, 'sean': 73, 'felix': 69, 'hugh': 75}\n"
     ]
    }
   ],
   "source": [
    "# list students in order of their exam marks in the following list\n",
    "marks = [87,45,76,64,66,90,55,73,69,75]\n",
    "studentsAndMarks = dict(zip(students,marks))\n",
    "print(f\"Students and their marks: \\n {studentsAndMarks}\")"
   ]
  },
  {
   "cell_type": "code",
   "execution_count": 19,
   "metadata": {
    "colab": {
     "base_uri": "https://localhost:8080/"
    },
    "executionInfo": {
     "elapsed": 341,
     "status": "ok",
     "timestamp": 1666857059169,
     "user": {
      "displayName": "Frances C",
      "userId": "14852923076221038332"
     },
     "user_tz": -780
    },
    "id": "54qhx1WNbBC7",
    "outputId": "bebcc4a2-3928-4828-9493-acc2343c45eb"
   },
   "outputs": [
    {
     "data": {
      "text/plain": [
       "['alice',\n",
       " 'ben',\n",
       " 'cathy',\n",
       " 'dawn',\n",
       " 'emily',\n",
       " 'fern',\n",
       " 'emma',\n",
       " 'sean',\n",
       " 'felix',\n",
       " 'hugh']"
      ]
     },
     "execution_count": 19,
     "metadata": {},
     "output_type": "execute_result"
    }
   ],
   "source": [
    "students"
   ]
  },
  {
   "cell_type": "code",
   "execution_count": 20,
   "metadata": {
    "colab": {
     "base_uri": "https://localhost:8080/"
    },
    "executionInfo": {
     "elapsed": 11,
     "status": "ok",
     "timestamp": 1666857075594,
     "user": {
      "displayName": "Frances C",
      "userId": "14852923076221038332"
     },
     "user_tz": -780
    },
    "id": "N9L-1iDvbFpX",
    "outputId": "9f48f4aa-bf4c-418f-fcff-9259730e4d01"
   },
   "outputs": [
    {
     "data": {
      "text/plain": [
       "{'alice': 87,\n",
       " 'ben': 45,\n",
       " 'cathy': 76,\n",
       " 'dawn': 64,\n",
       " 'emily': 66,\n",
       " 'fern': 90,\n",
       " 'emma': 55,\n",
       " 'sean': 73,\n",
       " 'felix': 69,\n",
       " 'hugh': 75}"
      ]
     },
     "execution_count": 20,
     "metadata": {},
     "output_type": "execute_result"
    }
   ],
   "source": [
    "studentsAndMarks\n"
   ]
  },
  {
   "cell_type": "code",
   "execution_count": 21,
   "metadata": {
    "colab": {
     "base_uri": "https://localhost:8080/"
    },
    "executionInfo": {
     "elapsed": 360,
     "status": "ok",
     "timestamp": 1666857023966,
     "user": {
      "displayName": "Frances C",
      "userId": "14852923076221038332"
     },
     "user_tz": -780
    },
    "id": "IPQQHA2h_MrC",
    "outputId": "ffbc3704-c898-428e-c989-631bcdcb92ad"
   },
   "outputs": [
    {
     "data": {
      "text/plain": [
       "['fern',\n",
       " 'alice',\n",
       " 'cathy',\n",
       " 'hugh',\n",
       " 'sean',\n",
       " 'felix',\n",
       " 'emily',\n",
       " 'dawn',\n",
       " 'emma',\n",
       " 'ben']"
      ]
     },
     "execution_count": 21,
     "metadata": {},
     "output_type": "execute_result"
    }
   ],
   "source": [
    "sorted(studentsAndMarks, key=studentsAndMarks.get,reverse=True)"
   ]
  },
  {
   "cell_type": "markdown",
   "metadata": {
    "id": "1sXaEeYiyju-"
   },
   "source": [
    "\n",
    "\n",
    "---\n",
    "\n",
    "\n",
    "\n",
    "---\n",
    "\n",
    "\n",
    "\n",
    "> > > > > > > > > © 2022 Institute of Data\n",
    "\n",
    "\n",
    "---\n",
    "\n",
    "\n",
    "\n",
    "---\n",
    "\n",
    "\n",
    "\n"
   ]
  }
 ],
 "metadata": {
  "colab": {
   "collapsed_sections": [],
   "provenance": [
    {
     "file_id": "1NURX-vO-Is4Txs0slwNdREeqvqSKiyES",
     "timestamp": 1666850331805
    }
   ]
  },
  "kernelspec": {
   "display_name": "Python 3",
   "language": "python",
   "name": "python3"
  },
  "language_info": {
   "codemirror_mode": {
    "name": "ipython",
    "version": 3
   },
   "file_extension": ".py",
   "mimetype": "text/x-python",
   "name": "python",
   "nbconvert_exporter": "python",
   "pygments_lexer": "ipython3",
   "version": "3.10.6 (main, Aug 10 2022, 11:40:04) [GCC 11.3.0]"
  },
  "vscode": {
   "interpreter": {
    "hash": "81dff1df092477edfb2a4af842119ce898c5ffc750204edb862cd12fb8e880ea"
   }
  }
 },
 "nbformat": 4,
 "nbformat_minor": 1
}
