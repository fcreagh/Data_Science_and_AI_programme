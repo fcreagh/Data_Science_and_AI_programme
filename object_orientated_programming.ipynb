{
 "cells": [
  {
   "cell_type": "code",
   "execution_count": 2,
   "metadata": {},
   "outputs": [],
   "source": [
    "############### Object orientated programming eg ################\n",
    "# need to understand if going to look inside code behind the packages we are using (pandas, numpy etc)\n",
    "\n",
    "# Class − A user-defined prototype for an object that defines a set of attributes that characterize any object of the class. \n",
    "# The attributes are data members (class variables and instance variables) and methods, accessed via dot notation.\n",
    "\n",
    "# init = intialises the object - when this is done, class variable and count goes up by 1\n",
    "# self = allows passing in the object from the front (emp1.name)\n",
    "\n",
    "class Employee:\n",
    "   'Common base class for all employees'\n",
    "   empCount = 0\n",
    "\n",
    "   def __init__(self, name, salary):\n",
    "      self.name = name\n",
    "      self.salary = salary\n",
    "      Employee.empCount += 1\n",
    "   \n",
    "   def displayCount(self):\n",
    "     print(\"Total Employee %d\" % Employee.empCount)\n",
    "\n",
    "   def displayEmployee(self):\n",
    "      print(\"Name : \", self.name,  \", Salary: \", self.salary)"
   ]
  },
  {
   "cell_type": "code",
   "execution_count": 3,
   "metadata": {},
   "outputs": [],
   "source": [
    "# initalise an object of the class\n",
    "# define an employee\n",
    "\n",
    "emp1 = Employee('Roger', 2000.00)"
   ]
  },
  {
   "cell_type": "code",
   "execution_count": 4,
   "metadata": {},
   "outputs": [
    {
     "data": {
      "text/plain": [
       "'Roger'"
      ]
     },
     "execution_count": 4,
     "metadata": {},
     "output_type": "execute_result"
    }
   ],
   "source": [
    "# name and salary = attribute\n",
    "emp1.name"
   ]
  },
  {
   "cell_type": "code",
   "execution_count": 5,
   "metadata": {},
   "outputs": [
    {
     "data": {
      "text/plain": [
       "2000.0"
      ]
     },
     "execution_count": 5,
     "metadata": {},
     "output_type": "execute_result"
    }
   ],
   "source": [
    "emp1.salary"
   ]
  },
  {
   "cell_type": "code",
   "execution_count": 6,
   "metadata": {},
   "outputs": [
    {
     "name": "stdout",
     "output_type": "stream",
     "text": [
      "Total Employee 1\n"
     ]
    }
   ],
   "source": [
    "# displayCount and display employee =  a method of the class\n",
    "emp1.displayCount()"
   ]
  },
  {
   "cell_type": "code",
   "execution_count": 7,
   "metadata": {},
   "outputs": [
    {
     "name": "stdout",
     "output_type": "stream",
     "text": [
      "Name :  Roger , Salary:  2000.0\n"
     ]
    }
   ],
   "source": [
    "emp1.displayEmployee()"
   ]
  },
  {
   "cell_type": "code",
   "execution_count": 8,
   "metadata": {},
   "outputs": [],
   "source": [
    "emp2 = Employee('Lauren', 2000.00)"
   ]
  },
  {
   "cell_type": "code",
   "execution_count": 9,
   "metadata": {},
   "outputs": [
    {
     "name": "stdout",
     "output_type": "stream",
     "text": [
      "Name :  Lauren , Salary:  2000.0\n"
     ]
    }
   ],
   "source": [
    "emp2.displayEmployee()"
   ]
  },
  {
   "cell_type": "code",
   "execution_count": 10,
   "metadata": {},
   "outputs": [
    {
     "name": "stdout",
     "output_type": "stream",
     "text": [
      "Total Employee 2\n"
     ]
    }
   ],
   "source": [
    "emp1.displayCount()"
   ]
  },
  {
   "cell_type": "markdown",
   "metadata": {},
   "source": [
    "OOP pdf for module 1"
   ]
  },
  {
   "cell_type": "markdown",
   "metadata": {},
   "source": [
    "Write a Rectangle class in Python language, allowing you to build a rectangle\n",
    "with length and width attributes."
   ]
  },
  {
   "cell_type": "markdown",
   "metadata": {},
   "source": [
    "Create a Perimeter() method to calculate the perimeter of the rectangle and a\n",
    "Area() method to calculate the area of the rectangle."
   ]
  },
  {
   "cell_type": "markdown",
   "metadata": {},
   "source": [
    "Create a method display() that display the length, width, perimeter and area of\n",
    "an object created using an instantiation on rectangle class."
   ]
  },
  {
   "cell_type": "code",
   "execution_count": 12,
   "metadata": {},
   "outputs": [],
   "source": [
    "class Rectangle:\n",
    "    # define constructor with attributes: length and width\n",
    "    def __init__(self, length , width):\n",
    "        self.length = length\n",
    "        self.width = width\n",
    "    \n",
    "    # getter method\n",
    "    def get_length(self):\n",
    "        return self._length\n",
    "    \n",
    "    # setter method\n",
    "    def set_length(self, x):\n",
    "        self._length = x\n",
    "    \n",
    "    # Create Perimeter method\n",
    "    def Perimeter(self):\n",
    "        return 2*(self.length + self.width)\n",
    "    # Create area method\n",
    "    def Area(self):\n",
    "        return self.length*self.width\n",
    "    # create display method\n",
    "    def display(self):\n",
    "        print(\"The length of rectangle is: \", self.length)\n",
    "        print(\"The width of rectangle is: \", self.width)\n",
    "        print(\"The perimeter of rectangle is: \", self.Perimeter())\n",
    "        print(\"The area of rectangle is: \", self.Area())"
   ]
  },
  {
   "cell_type": "code",
   "execution_count": null,
   "metadata": {},
   "outputs": [],
   "source": [
    "# To Do: practice making some new rectangles and change their attributes\n",
    "\n"
   ]
  },
  {
   "cell_type": "markdown",
   "metadata": {},
   "source": [
    "Create a Cuboid child class inheriting from the Rectangle class and with a\n",
    "height attribute and another Volume() method to calculate the volume of the\n",
    "Cuboid."
   ]
  },
  {
   "cell_type": "code",
   "execution_count": 13,
   "metadata": {},
   "outputs": [
    {
     "name": "stdout",
     "output_type": "stream",
     "text": [
      "The length of rectangle is:  7\n",
      "The width of rectangle is:  5\n",
      "The perimeter of rectangle is:  24\n",
      "The area of rectangle is:  35\n",
      "----------------------------------\n",
      "the volume of myCuboid is:  70\n"
     ]
    }
   ],
   "source": [
    "class Cuboid(Rectangle):\n",
    "    def __init__(self, length, width , height):\n",
    "        Rectangle.__init__(self, length, width)\n",
    "        self.height = height\n",
    "    # define Volume method\n",
    "    def volume(self):\n",
    "        return self.length*self.width*self.height\n",
    "    # define Surface area method #polymorphism\n",
    "    def Area(self):\n",
    "        SA = 2*((self.length*self.width)+(self.height*self.width)+\n",
    "        (self.length*self.height))\n",
    "        return SA"
   ]
  },
  {
   "cell_type": "code",
   "execution_count": null,
   "metadata": {},
   "outputs": [],
   "source": [
    "myRectangle = Rectangle(7 , 5) #create Rectangle object\n",
    "myRectangle.display() #calling the method on the object\n",
    "print(\"----------------------------------\")\n",
    "myCuboid = Cuboid(7 , 5 , 2) #create a Cuboid object\n",
    "print(\"the volume of myCuboid is: \" , myCuboid.volume())"
   ]
  }
 ],
 "metadata": {
  "kernelspec": {
   "display_name": "Python 3",
   "language": "python",
   "name": "python3"
  },
  "language_info": {
   "codemirror_mode": {
    "name": "ipython",
    "version": 3
   },
   "file_extension": ".py",
   "mimetype": "text/x-python",
   "name": "python",
   "nbconvert_exporter": "python",
   "pygments_lexer": "ipython3",
   "version": "3.10.4 (main, Apr  2 2022, 09:04:19) [GCC 11.2.0]"
  },
  "orig_nbformat": 4,
  "vscode": {
   "interpreter": {
    "hash": "6cc7069460860001c0c3ad9d4046cf79d326a3836fcbfd2d495ac8ca5b3b20a3"
   }
  }
 },
 "nbformat": 4,
 "nbformat_minor": 2
}
